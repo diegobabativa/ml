{
 "cells": [
  {
   "cell_type": "markdown",
   "metadata": {},
   "source": [
    "### Decision Trees, Random Forest and Gradient boosting\n",
    "\n",
    "1. Decision Trees is a weak simple predictor, decision making diagram. Fast to buil and interpretable or easy to read.\n",
    "\n",
    "    - Disadvantages: Overfitting baceause of presence of noise and lack od representative instances. It'es possible for overfitting with one large (deep) tree.\n",
    "\n",
    "    - Variance error: How much a result will change based on changes to the training dataset. Tiny changes in the training data have the potential to cause large changes in the final result.\n",
    "\n",
    "    \n",
    "\n",
    "2. Random Forest: Are a large number of Trees combined (using averages or \"majority rules\") \n",
    "at the end of the process. It is more complicated to interpret. \n",
    "\n",
    "    - Random forest reduce the variance using different samples for training-\n",
    "    - Speciying random feature subsets.\n",
    "    - Building and combining small (shallow) trees.\n",
    "\n",
    "\n",
    "3. Gradient boosting machines: Also combined decision Trees, but start the combining process at\n",
    "the begining , instead of the end.\n",
    "\n",
    "\n",
    "\n",
    "4. \n",
    "\n"
   ]
  },
  {
   "cell_type": "code",
   "execution_count": 1,
   "metadata": {},
   "outputs": [],
   "source": [
    "import pandas as pd"
   ]
  },
  {
   "cell_type": "code",
   "execution_count": null,
   "metadata": {},
   "outputs": [],
   "source": []
  },
  {
   "cell_type": "code",
   "execution_count": null,
   "metadata": {},
   "outputs": [],
   "source": []
  },
  {
   "cell_type": "code",
   "execution_count": null,
   "metadata": {},
   "outputs": [],
   "source": []
  }
 ],
 "metadata": {
  "kernelspec": {
   "display_name": "Python 3.8.10 64-bit",
   "language": "python",
   "name": "python3"
  },
  "language_info": {
   "codemirror_mode": {
    "name": "ipython",
    "version": 3
   },
   "file_extension": ".py",
   "mimetype": "text/x-python",
   "name": "python",
   "nbconvert_exporter": "python",
   "pygments_lexer": "ipython3",
   "version": "3.8.10"
  },
  "orig_nbformat": 4,
  "vscode": {
   "interpreter": {
    "hash": "31f2aee4e71d21fbe5cf8b01ff0e069b9275f58929596ceb00d14d90e3e16cd6"
   }
  }
 },
 "nbformat": 4,
 "nbformat_minor": 2
}
