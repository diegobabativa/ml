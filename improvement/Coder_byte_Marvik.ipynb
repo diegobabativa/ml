{
 "cells": [
  {
   "cell_type": "markdown",
   "id": "c7fb3d3c",
   "metadata": {},
   "source": [
    "# Python Test\n",
    "\n",
    "Python Age Counting\n",
    "HIDE QUESTION\n",
    "In the Python file, write a program to perform a GET request on the route https://coderbyte.com/api/challenges/json/age-counting which contains a data key and the value is a string which contains items in the format: key=STRING, age=INTEGER. Your goal is to count how many items exist that have an age equal to or greater than 50, and print this final value.\n",
    "\n",
    "Example Input\n",
    "{\"data\":\"key=IAfpK, age=58, key=WNVdi, age=64, key=jp9zt, age=47\"}\n",
    "\n",
    "Example Output\n",
    "2\n"
   ]
  },
  {
   "cell_type": "code",
   "execution_count": 6,
   "id": "7e8c5edd",
   "metadata": {},
   "outputs": [
    {
     "name": "stdout",
     "output_type": "stream",
     "text": [
      "5660\n",
      "128\n"
     ]
    }
   ],
   "source": [
    "\n",
    "import requests \n",
    "\n",
    "r = requests.get('https://coderbyte.com/api/challenges/json/age-counting')\n",
    "print(len(r.json()['data']))\n",
    "\n",
    "items = r.json()['data'].split(',')\n",
    "numbers= []\n",
    "\n",
    "for item in items:\n",
    "    for val in item.split('='):\n",
    "        try:\n",
    "            number = int(val)\n",
    "            if number >= 50:\n",
    "                numbers.append(number)\n",
    "        except:\n",
    "            continue\n",
    "print(len(numbers)) #Result was Ok"
   ]
  },
  {
   "cell_type": "markdown",
   "id": "4955dda4",
   "metadata": {},
   "source": [
    "# Proficient or an expert in Data Science"
   ]
  },
  {
   "cell_type": "code",
   "execution_count": null,
   "id": "6a8f4523",
   "metadata": {},
   "outputs": [],
   "source": [
    "Have the function StockPicker(arr) take the array of numbers stored in arr which will contain integers that represent the amount in dollars that a single stock is worth, and return the maximum profit that could have been made by buying stock on day x and selling stock on day y where y > x. For example: if arr is [44, 30, 24, 32, 35, 30, 40, 38, 15] then your program should return 16 because at index 2 the stock was worth $24 and at index 6 the stock was then worth $40, so if you bought the stock at 24 and sold it at 40, you would have made a profit of $16, which is the maximum profit that could have been made with this list of stock prices.\n",
    "\n",
    "If there is not profit that could have been made with the stock prices, then your program should return -1. For example: arr is [10, 9, 8, 2] then your program should return -1."
   ]
  },
  {
   "cell_type": "code",
   "execution_count": 5,
   "id": "c6891cc0",
   "metadata": {},
   "outputs": [
    {
     "name": "stdout",
     "output_type": "stream",
     "text": [
      "16\n"
     ]
    }
   ],
   "source": [
    "def ArrayChallenge(arr):\n",
    "    # code goes here\n",
    "    profit = 0\n",
    "    for day, price in enumerate(arr):\n",
    "        if day == 0:\n",
    "            continue\n",
    "        else:\n",
    "            for x in range(day, 0 ,-1):  \n",
    "                subs = arr[day]- arr[x-1]\n",
    "                if subs > profit:\n",
    "                    profit = subs\n",
    "    if profit == 0:\n",
    "        return -1\n",
    "\n",
    "    return profit\n",
    "\n",
    "# keep this function call here \n",
    "print(ArrayChallenge([44, 30, 24, 32, 35, 30, 40, 38, 15]))"
   ]
  },
  {
   "cell_type": "code",
   "execution_count": null,
   "id": "1e1dd5ed",
   "metadata": {},
   "outputs": [],
   "source": []
  },
  {
   "cell_type": "code",
   "execution_count": null,
   "id": "f89a95a3",
   "metadata": {},
   "outputs": [],
   "source": []
  },
  {
   "cell_type": "code",
   "execution_count": null,
   "id": "17498f37",
   "metadata": {},
   "outputs": [],
   "source": []
  },
  {
   "cell_type": "code",
   "execution_count": null,
   "id": "fdc04b3d",
   "metadata": {},
   "outputs": [],
   "source": []
  },
  {
   "cell_type": "code",
   "execution_count": null,
   "id": "b4969159",
   "metadata": {},
   "outputs": [],
   "source": []
  },
  {
   "cell_type": "code",
   "execution_count": null,
   "id": "3c9c86bd",
   "metadata": {},
   "outputs": [],
   "source": []
  },
  {
   "cell_type": "code",
   "execution_count": null,
   "id": "8d9f962a",
   "metadata": {},
   "outputs": [],
   "source": []
  },
  {
   "cell_type": "code",
   "execution_count": null,
   "id": "a46afbc8",
   "metadata": {},
   "outputs": [],
   "source": []
  }
 ],
 "metadata": {
  "kernelspec": {
   "display_name": "Python 3.8.10 64-bit",
   "language": "python",
   "name": "python3"
  },
  "language_info": {
   "codemirror_mode": {
    "name": "ipython",
    "version": 3
   },
   "file_extension": ".py",
   "mimetype": "text/x-python",
   "name": "python",
   "nbconvert_exporter": "python",
   "pygments_lexer": "ipython3",
   "version": "3.8.10"
  },
  "vscode": {
   "interpreter": {
    "hash": "31f2aee4e71d21fbe5cf8b01ff0e069b9275f58929596ceb00d14d90e3e16cd6"
   }
  }
 },
 "nbformat": 4,
 "nbformat_minor": 5
}
