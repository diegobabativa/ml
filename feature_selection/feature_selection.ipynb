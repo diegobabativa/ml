{
 "cells": [
  {
   "cell_type": "markdown",
   "id": "d8deb1f1",
   "metadata": {},
   "source": [
    "### Feature selection"
   ]
  },
  {
   "cell_type": "markdown",
   "id": "d8ec94bf",
   "metadata": {},
   "source": [
    "Original source: https://machinelearningmastery.com/feature-selection-with-real-and-categorical-data/#:~:text=There%20are%20two%20main%20types,into%20wrapper%2C%20filter%20and%20intrinsic."
   ]
  },
  {
   "cell_type": "markdown",
   "id": "349ddc23",
   "metadata": {},
   "source": [
    "![Alt text](feature_selection_methods.png)"
   ]
  },
  {
   "cell_type": "code",
   "execution_count": null,
   "id": "fa18d853",
   "metadata": {},
   "outputs": [],
   "source": []
  },
  {
   "cell_type": "code",
   "execution_count": null,
   "id": "0f44e187",
   "metadata": {},
   "outputs": [],
   "source": []
  },
  {
   "cell_type": "code",
   "execution_count": null,
   "id": "1bcf0d01",
   "metadata": {},
   "outputs": [],
   "source": []
  },
  {
   "cell_type": "code",
   "execution_count": null,
   "id": "37d95e2a",
   "metadata": {},
   "outputs": [],
   "source": []
  }
 ],
 "metadata": {
  "kernelspec": {
   "display_name": "Python 3",
   "language": "python",
   "name": "python3"
  },
  "language_info": {
   "codemirror_mode": {
    "name": "ipython",
    "version": 3
   },
   "file_extension": ".py",
   "mimetype": "text/x-python",
   "name": "python",
   "nbconvert_exporter": "python",
   "pygments_lexer": "ipython3",
   "version": "3.9.12"
  }
 },
 "nbformat": 4,
 "nbformat_minor": 5
}
